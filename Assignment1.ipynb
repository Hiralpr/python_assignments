{
 "cells": [
  {
   "cell_type": "markdown",
   "id": "d0b421d6",
   "metadata": {},
   "source": [
    "1. In the below elements which of them are values or an expression? eg:- values can be\n",
    "\n",
    "Expression: * - / +   \n",
    "Values : 'hello', -87.8, 6\n"
   ]
  },
  {
   "cell_type": "markdown",
   "id": "7d9ee477",
   "metadata": {},
   "source": [
    "2. What is the difference between string and variable?\n",
    "\n",
    "String: it is the type of the varible in which we can store the charcter, number, special character anything.  \n",
    "like \"Hiral\", \"12345\", \"hiral@gmail.com\"  \n",
    "\n",
    "Variable: variable is one of the box which we can fill by throw the any of the data.  \n",
    "like: numerica, string, bool, None etc...   \n",
    "Exaple: 1234, \"abc\", True, None"
   ]
  },
  {
   "cell_type": "markdown",
   "id": "fa82a6da",
   "metadata": {},
   "source": [
    "3. Describe three different data types. \n",
    "\n",
    "integer, float, None, bool, string etc"
   ]
  },
  {
   "cell_type": "markdown",
   "id": "02c378a3",
   "metadata": {},
   "source": [
    "4. What is an expression made up of? What do all expressions do?  \n",
    "\n",
    "Expression is the store the information in such way that we can evaluate the further and do the proceed futher. it is store the operands and operators with some operatin like, Arithmetic expression, bit-wise expression, floating point expression, constant exprssion, integer expression etc...  \n",
    "\n",
    "example: Arithmetic expression:\n",
    "\n",
    "1*3/2\n",
    "\n",
    "this is the example of arithmetic expression. it start to evaluation and proceed as per precendes value."
   ]
  },
  {
   "cell_type": "markdown",
   "id": "de030f68",
   "metadata": {},
   "source": [
    "5. This assignment statements, like spam = 10. What is the difference between an expression and a statement?\n",
    "\n",
    "Expression: \n",
    "Expression is the store the information in such way that we can evaluate the further and do the proceed futher. it is store the operands and operators with some operatin like, Arithmetic expression, bit-wise expression, floating point expression, constant exprssion, integer expression etc...\n",
    "\n",
    "Main things a expression can return the value after ompli and run the code. where statement is dosen't return the value.  \n",
    "\n",
    "statement is just things in which we can print, asssigning a some value. like looping, conditional statement"
   ]
  },
  {
   "cell_type": "markdown",
   "id": "0bbef82c",
   "metadata": {},
   "source": [
    "6. After running the following code, what does the variable bacon contain?\n",
    "bacon = 22\n",
    "bacon + 1"
   ]
  },
  {
   "cell_type": "code",
   "execution_count": 2,
   "id": "00dc4fb3",
   "metadata": {},
   "outputs": [
    {
     "data": {
      "text/plain": [
       "23"
      ]
     },
     "execution_count": 2,
     "metadata": {},
     "output_type": "execute_result"
    }
   ],
   "source": [
    "bacon = 22\n",
    "bacon+1"
   ]
  },
  {
   "cell_type": "markdown",
   "id": "06134241",
   "metadata": {},
   "source": [
    "7. What should the values of the following two terms be?\n",
    "'spam' + 'spamspam';\n",
    "'spam' * 3"
   ]
  },
  {
   "cell_type": "code",
   "execution_count": 3,
   "id": "128ad9d6",
   "metadata": {},
   "outputs": [
    {
     "data": {
      "text/plain": [
       "'spamspamspam'"
      ]
     },
     "execution_count": 3,
     "metadata": {},
     "output_type": "execute_result"
    }
   ],
   "source": [
    "'spam' + 'spamspam'"
   ]
  },
  {
   "cell_type": "code",
   "execution_count": 4,
   "id": "8d61eb50",
   "metadata": {},
   "outputs": [
    {
     "data": {
      "text/plain": [
       "'spamspamspam'"
      ]
     },
     "execution_count": 4,
     "metadata": {},
     "output_type": "execute_result"
    }
   ],
   "source": [
    "'spam'* 3 "
   ]
  },
  {
   "cell_type": "markdown",
   "id": "f86fad1c",
   "metadata": {},
   "source": [
    "8. Why is eggs a valid variable name while 100 is invalid?   \n",
    "\n",
    "As per variable rules you can't start the variable as numerica value. so, thats why eggs is valid while 100 is invalid variable name. you can also write like, e100, egg100.\n",
    "\n",
    "but the vable name must be start with character and underscore(_)."
   ]
  },
  {
   "cell_type": "markdown",
   "id": "6eb8bf8b",
   "metadata": {},
   "source": [
    "9. What three functions can be used to get the integer, floating-point number, or string version of a value?    \n",
    "\n",
    "for integer: int()  \n",
    "for floating-point-number: float()  \n",
    "for string: str()"
   ]
  },
  {
   "cell_type": "markdown",
   "id": "62388308",
   "metadata": {},
   "source": [
    "10. Why does this expression cause an error? How can you fix it?\n",
    "'I have eaten' + 99 + 'burritos'"
   ]
  },
  {
   "cell_type": "code",
   "execution_count": 5,
   "id": "49615ff3",
   "metadata": {},
   "outputs": [
    {
     "ename": "TypeError",
     "evalue": "can only concatenate str (not \"int\") to str",
     "output_type": "error",
     "traceback": [
      "\u001b[1;31m---------------------------------------------------------------------------\u001b[0m",
      "\u001b[1;31mTypeError\u001b[0m                                 Traceback (most recent call last)",
      "\u001b[1;32m~\\AppData\\Local\\Temp/ipykernel_1016/2733022945.py\u001b[0m in \u001b[0;36m<module>\u001b[1;34m\u001b[0m\n\u001b[1;32m----> 1\u001b[1;33m \u001b[1;34m'I have eaten'\u001b[0m \u001b[1;33m+\u001b[0m \u001b[1;36m99\u001b[0m \u001b[1;33m+\u001b[0m \u001b[1;34m'burritos'\u001b[0m\u001b[1;33m\u001b[0m\u001b[1;33m\u001b[0m\u001b[0m\n\u001b[0m",
      "\u001b[1;31mTypeError\u001b[0m: can only concatenate str (not \"int\") to str"
     ]
    }
   ],
   "source": [
    "'I have eaten' + 99 + 'burritos'"
   ]
  },
  {
   "cell_type": "code",
   "execution_count": 7,
   "id": "d1d13df8",
   "metadata": {},
   "outputs": [
    {
     "data": {
      "text/plain": [
       "'I have eaten 99 burritos'"
      ]
     },
     "execution_count": 7,
     "metadata": {},
     "output_type": "execute_result"
    }
   ],
   "source": [
    "'I have eaten' + \" \" +str(99)+\" \" + 'burritos'"
   ]
  },
  {
   "cell_type": "code",
   "execution_count": null,
   "id": "fd4096e4",
   "metadata": {},
   "outputs": [],
   "source": []
  }
 ],
 "metadata": {
  "kernelspec": {
   "display_name": "Python 3 (ipykernel)",
   "language": "python",
   "name": "python3"
  },
  "language_info": {
   "codemirror_mode": {
    "name": "ipython",
    "version": 3
   },
   "file_extension": ".py",
   "mimetype": "text/x-python",
   "name": "python",
   "nbconvert_exporter": "python",
   "pygments_lexer": "ipython3",
   "version": "3.9.7"
  }
 },
 "nbformat": 4,
 "nbformat_minor": 5
}
