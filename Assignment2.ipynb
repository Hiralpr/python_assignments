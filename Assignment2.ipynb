{
  "nbformat": 4,
  "nbformat_minor": 0,
  "metadata": {
    "colab": {
      "name": "Assignment2.ipynb",
      "provenance": []
    },
    "kernelspec": {
      "name": "python3",
      "display_name": "Python 3"
    },
    "language_info": {
      "name": "python"
    }
  },
  "cells": [
    {
      "cell_type": "markdown",
      "source": [
        "1. What are the two values of the Boolean data type? How do you write them?  \n",
        "\n",
        "        - True, False"
      ],
      "metadata": {
        "id": "k8K2U0dQVaYE"
      }
    },
    {
      "cell_type": "markdown",
      "source": [
        "2. What are the three different types of Boolean operators?   \n",
        "\n",
        "\n",
        "    1. Comaprision Operators(==,<=,>=,!=, etc...)\n",
        "    2. Logical Operators(AND, OR, NOT)\n",
        "    3. In Flow chart(if a > 10)"
      ],
      "metadata": {
        "id": "N-_rm5RyV5uw"
      }
    },
    {
      "cell_type": "markdown",
      "source": [
        "3. Make a list of each Boolean operator&#39;s truth tables (i.e. every possible combination of Boolean\n",
        "values for the operator and what it evaluate )."
      ],
      "metadata": {
        "id": "pivsTHYuXIoA"
      }
    },
    {
      "cell_type": "markdown",
      "source": [
        "== Truth Table  \n",
        "x\t==\ty\tReturns  \n",
        "True\t==\tTrue\tTrue  \n",
        "True\t==\tFalse\tFalse  \n",
        "False\t==\tTrue\tFalse  \n",
        "False\t==\tFalse\tTrue  \n",
        "\n",
        "AND Truth Table  \n",
        "x\tand\ty\tReturns  \n",
        "True\tand\tTrue\tTrue  \n",
        "True\tand\tFalse\tFalse  \n",
        "False\tand\tTrue\tFalse  \n",
        "False\tand\tFalse\tFalse \n",
        "\n",
        "OR Truth Table  \n",
        "x\tor\ty\tReturns  \n",
        "True\tor\tTrue\tTrue  \n",
        "True\tor\tFalse\tTrue  \n",
        "False\tor\tTrue\tTrue   \n",
        "False\tor\tFalse\tFalse\n",
        "  \n",
        "NOT Truth Table  \n",
        "not\tx\tReturns  \n",
        "not\tTrue\tFalse  \n",
        "not\tFalse\tTrue  "
      ],
      "metadata": {
        "id": "0yrswbHHd0W8"
      }
    },
    {
      "cell_type": "code",
      "execution_count": 11,
      "metadata": {
        "id": "w7-SNMN3VZER"
      },
      "outputs": [],
      "source": [
        "# Comaprision operators\n",
        "a = 10\n",
        "b = 20"
      ]
    },
    {
      "cell_type": "code",
      "source": [
        "print('Equal operator: ', a == b)\n",
        "print('Not equal operator: ', a != b)\n",
        "print('Less than operator: ', a < b)\n",
        "print('Greter than operator: ', a > b)\n",
        "print('less than and equal operator: ', a <= b)\n",
        "print('Greter than and equal operator: ', a >= b)"
      ],
      "metadata": {
        "colab": {
          "base_uri": "https://localhost:8080/"
        },
        "id": "Gt3ByJMHXYXM",
        "outputId": "43035817-577c-4831-c119-5ec378a5923a"
      },
      "execution_count": 17,
      "outputs": [
        {
          "output_type": "stream",
          "name": "stdout",
          "text": [
            "Equal operator:  False\n",
            "Not equal operator:  True\n",
            "Less than operator:  True\n",
            "Greter than operator:  False\n",
            "less than and equal operator:  True\n",
            "Greter than and equal operator:  False\n"
          ]
        }
      ]
    },
    {
      "cell_type": "code",
      "source": [
        "#Logical operator\n",
        "# and\tTrue if both are true\tx and y\n",
        "# or\tTrue if at least one is true\tx or y\n",
        "# not\tTrue only if false\tnot x\n",
        "\n",
        "print((1>3) and (4<5))\n",
        "print((1>3) or (4<=5))\n",
        "print(1 != 3)"
      ],
      "metadata": {
        "colab": {
          "base_uri": "https://localhost:8080/"
        },
        "id": "4ViFdEtyYcLP",
        "outputId": "c9558a90-c8c6-40e3-e872-1d3c8d28a826"
      },
      "execution_count": 20,
      "outputs": [
        {
          "output_type": "stream",
          "name": "stdout",
          "text": [
            "False\n",
            "True\n",
            "True\n"
          ]
        }
      ]
    },
    {
      "cell_type": "code",
      "source": [
        "#In flow control\n",
        "\n",
        "a = 20\n",
        "b = 30\n",
        "if a>b:\n",
        "    print(f'a is larger then b {a,b}')\n",
        "else:\n",
        "    print(f'b is larger then a {a,b}')"
      ],
      "metadata": {
        "colab": {
          "base_uri": "https://localhost:8080/"
        },
        "id": "ta2_Em8Ea0i_",
        "outputId": "1d47809e-9c41-4f9c-9999-df2ee8097d6c"
      },
      "execution_count": 23,
      "outputs": [
        {
          "output_type": "stream",
          "name": "stdout",
          "text": [
            "b is larger then a (20, 30)\n"
          ]
        }
      ]
    },
    {
      "cell_type": "markdown",
      "source": [
        "4. What are the values of the following expressions?"
      ],
      "metadata": {
        "id": "ToC1zOkscoDw"
      }
    },
    {
      "cell_type": "code",
      "source": [
        "print((5 > 4) and (3 == 5))\n",
        "print(not(5>4))\n",
        "print((5 > 4) or (3 == 5))\n",
        "print(not ((5 > 4) or (3 == 5)))\n",
        "print((True and True) and (True == False))\n",
        "print((not False) or (not True))"
      ],
      "metadata": {
        "colab": {
          "base_uri": "https://localhost:8080/"
        },
        "id": "xvXlSTVCbcPy",
        "outputId": "d85c3a26-2327-43e4-c3e9-57eeebf62868"
      },
      "execution_count": 30,
      "outputs": [
        {
          "output_type": "stream",
          "name": "stdout",
          "text": [
            "False\n",
            "False\n",
            "True\n",
            "False\n",
            "False\n",
            "True\n"
          ]
        }
      ]
    },
    {
      "cell_type": "markdown",
      "source": [
        "5. What are the six comparison operators?"
      ],
      "metadata": {
        "id": "i2jKlRZTf9KO"
      }
    },
    {
      "cell_type": "code",
      "source": [
        "print('Equal operator: ', a == b)\n",
        "print('Not equal operator: ', a != b)\n",
        "print('Less than operator: ', a < b)\n",
        "print('Greter than operator: ', a > b)\n",
        "print('less than and equal operator: ', a <= b)\n",
        "print('Greter than and equal operator: ', a >= b)"
      ],
      "metadata": {
        "colab": {
          "base_uri": "https://localhost:8080/"
        },
        "id": "hFJJVYuUdEE6",
        "outputId": "7d1a50d5-8beb-430f-8af8-ad8cbc50cc59"
      },
      "execution_count": 31,
      "outputs": [
        {
          "output_type": "stream",
          "name": "stdout",
          "text": [
            "Equal operator:  False\n",
            "Not equal operator:  True\n",
            "Less than operator:  True\n",
            "Greter than operator:  False\n",
            "less than and equal operator:  True\n",
            "Greter than and equal operator:  False\n"
          ]
        }
      ]
    },
    {
      "cell_type": "markdown",
      "source": [
        "6. How do you tell the difference between the equal to and assignment operators?Describe a\n",
        "condition and when you would use one."
      ],
      "metadata": {
        "id": "nC8ctXk9ggs9"
      }
    },
    {
      "cell_type": "code",
      "source": [
        "# For assignment operator\n",
        "# Assignmet operator is used to assign the value right side\n",
        "a = 10\n",
        "print('a value is:' ,a)"
      ],
      "metadata": {
        "colab": {
          "base_uri": "https://localhost:8080/"
        },
        "id": "rGPx46l7gBAQ",
        "outputId": "350ea6e1-865b-48be-8bb2-2fc1f11ce839"
      },
      "execution_count": 33,
      "outputs": [
        {
          "output_type": "stream",
          "name": "stdout",
          "text": [
            "a value is: 10\n"
          ]
        }
      ]
    },
    {
      "cell_type": "code",
      "source": [
        "# For eqhal to\n",
        "# Equal to used to compare the value of any two variable\n",
        "a = 10\n",
        "b = 20\n",
        "print(a == b )"
      ],
      "metadata": {
        "colab": {
          "base_uri": "https://localhost:8080/"
        },
        "id": "qN9RKvimiK2t",
        "outputId": "bf34fed9-ecbc-46d5-8b4e-6903f3b111ca"
      },
      "execution_count": 37,
      "outputs": [
        {
          "output_type": "stream",
          "name": "stdout",
          "text": [
            "False\n"
          ]
        }
      ]
    },
    {
      "cell_type": "code",
      "source": [
        "spam = 0\n",
        "if spam == 10:\n",
        "    print('eggs')\n",
        "if spam > 5:\n",
        "    print('bacon&')\n",
        "else:\n",
        "    print('ham')\n",
        "    print('spam')\n",
        "    print('spam')"
      ],
      "metadata": {
        "colab": {
          "base_uri": "https://localhost:8080/"
        },
        "id": "lLJe9-Npi0tu",
        "outputId": "c6e1fbe6-6ef7-4a66-e927-fedf9ea5c439"
      },
      "execution_count": 39,
      "outputs": [
        {
          "output_type": "stream",
          "name": "stdout",
          "text": [
            "ham\n",
            "spam\n",
            "spam\n"
          ]
        }
      ]
    },
    {
      "cell_type": "markdown",
      "source": [
        "8. Write code that prints Hello if 1 is stored in spam, prints Howdy if 2 is stored in spam, and prints\n",
        "Greetings! if anything else is stored in spam."
      ],
      "metadata": {
        "id": "QxQWR0IFlNoM"
      }
    },
    {
      "cell_type": "code",
      "source": [
        "spam = int(input('Enter the number'))\n",
        "if spam == 1:\n",
        "    print('Hello')\n",
        "elif spam == 2:\n",
        "    print('Howdy')\n",
        "else:\n",
        "    print('Greetings!!')"
      ],
      "metadata": {
        "colab": {
          "base_uri": "https://localhost:8080/"
        },
        "id": "-bRD9PnyjKGR",
        "outputId": "1ffd1aed-3eb6-4cbc-f22b-3717c4c5795c"
      },
      "execution_count": 46,
      "outputs": [
        {
          "output_type": "stream",
          "name": "stdout",
          "text": [
            "Enter the number3\n",
            "Greetings!!\n"
          ]
        }
      ]
    },
    {
      "cell_type": "markdown",
      "source": [
        "9.If your programme is stuck in an endless loop, what keys you’ll press?   \n",
        "\n",
        "            - cltr + c\n",
        "            "
      ],
      "metadata": {
        "id": "B2WaROafm5SH"
      }
    },
    {
      "cell_type": "markdown",
      "source": [
        "10. How can you tell the difference between break and continue?   \n",
        "\n",
        "break: It stop the run the code on specific condition. \n",
        "  \n",
        "continue: it skipt that particular condition and continue after code or iteration "
      ],
      "metadata": {
        "id": "sGjcRAPYnDuV"
      }
    },
    {
      "cell_type": "code",
      "source": [
        "# Example : break\n",
        "\n",
        "for i in range(1,11):\n",
        "    if i == 6:\n",
        "        break\n",
        "    print(i)"
      ],
      "metadata": {
        "colab": {
          "base_uri": "https://localhost:8080/"
        },
        "id": "U1-3KUnalmQO",
        "outputId": "c3fb9680-6e45-4ae7-f926-6ae1e8afa863"
      },
      "execution_count": 51,
      "outputs": [
        {
          "output_type": "stream",
          "name": "stdout",
          "text": [
            "1\n",
            "2\n",
            "3\n",
            "4\n",
            "5\n"
          ]
        }
      ]
    },
    {
      "cell_type": "code",
      "source": [
        "#Example : continue\n",
        "for i in range(1,11):\n",
        "    if i == 6:\n",
        "        continue\n",
        "    print(i)"
      ],
      "metadata": {
        "colab": {
          "base_uri": "https://localhost:8080/"
        },
        "id": "jg9s1Tkxn7qK",
        "outputId": "82fc239c-96bd-414d-8f69-da23a6bec6d9"
      },
      "execution_count": 52,
      "outputs": [
        {
          "output_type": "stream",
          "name": "stdout",
          "text": [
            "1\n",
            "2\n",
            "3\n",
            "4\n",
            "5\n",
            "7\n",
            "8\n",
            "9\n",
            "10\n"
          ]
        }
      ]
    },
    {
      "cell_type": "markdown",
      "source": [
        "11. In a for loop, what is the difference between range(10), range(0, 10), and range(0, 10, 1)?  \n",
        "range(10): Give ending value and start by by defult 0. Whre 10 is excluding. \n",
        "\n",
        "range(0,10): Give starting value 0 and ending value 10. where starting value is including and 10 is excluding.  \n",
        "\n",
        "range(0, 10, 1):  Give starting value 0 and ending value 10. where starting value is including and 10 is excluding. step value is 1 \n"
      ],
      "metadata": {
        "id": "DtjNi9XtodTr"
      }
    },
    {
      "cell_type": "code",
      "source": [
        "for i in range(10):\n",
        "    print(i)"
      ],
      "metadata": {
        "colab": {
          "base_uri": "https://localhost:8080/"
        },
        "id": "X3fTD3cAoYA3",
        "outputId": "ae921e9c-910d-486a-98d4-4511623a8e94"
      },
      "execution_count": 54,
      "outputs": [
        {
          "output_type": "stream",
          "name": "stdout",
          "text": [
            "0\n",
            "1\n",
            "2\n",
            "3\n",
            "4\n",
            "5\n",
            "6\n",
            "7\n",
            "8\n",
            "9\n"
          ]
        }
      ]
    },
    {
      "cell_type": "code",
      "source": [
        "for i in range(0, 10):\n",
        "    print(i)"
      ],
      "metadata": {
        "colab": {
          "base_uri": "https://localhost:8080/"
        },
        "id": "zvjG-zzLq5OR",
        "outputId": "f7d73eca-91e0-4e03-a4e1-57927e329343"
      },
      "execution_count": 55,
      "outputs": [
        {
          "output_type": "stream",
          "name": "stdout",
          "text": [
            "0\n",
            "1\n",
            "2\n",
            "3\n",
            "4\n",
            "5\n",
            "6\n",
            "7\n",
            "8\n",
            "9\n"
          ]
        }
      ]
    },
    {
      "cell_type": "code",
      "source": [
        "for i in range(0, 10, 2):\n",
        "    print(i)"
      ],
      "metadata": {
        "colab": {
          "base_uri": "https://localhost:8080/"
        },
        "id": "83Hgy1KZrd4M",
        "outputId": "618c0e67-a7a4-4b59-cf43-898ae5a96b62"
      },
      "execution_count": 57,
      "outputs": [
        {
          "output_type": "stream",
          "name": "stdout",
          "text": [
            "0\n",
            "2\n",
            "4\n",
            "6\n",
            "8\n"
          ]
        }
      ]
    },
    {
      "cell_type": "markdown",
      "source": [
        "12. Write a short program that prints the numbers 1 to 10 using a for loop. Then write an equivalent\n",
        "program that prints the numbers 1 to 10 using a while loop."
      ],
      "metadata": {
        "id": "Z_SgmgIbroxr"
      }
    },
    {
      "cell_type": "code",
      "source": [
        "for i in range(0, 11):\n",
        "    print(i)"
      ],
      "metadata": {
        "colab": {
          "base_uri": "https://localhost:8080/"
        },
        "id": "tIISe4L-rf-T",
        "outputId": "b205adc1-65e1-4612-8ec6-00f69b24315c"
      },
      "execution_count": 62,
      "outputs": [
        {
          "output_type": "stream",
          "name": "stdout",
          "text": [
            "0\n",
            "1\n",
            "2\n",
            "3\n",
            "4\n",
            "5\n",
            "6\n",
            "7\n",
            "8\n",
            "9\n",
            "10\n"
          ]
        }
      ]
    },
    {
      "cell_type": "code",
      "source": [
        "i = 0\n",
        "while i <11:\n",
        "    print(i)\n",
        "    i+=1"
      ],
      "metadata": {
        "colab": {
          "base_uri": "https://localhost:8080/"
        },
        "id": "N8uKgdK1rsRv",
        "outputId": "9e874ee2-90ac-470c-cc4e-4e1dc1d210b5"
      },
      "execution_count": 61,
      "outputs": [
        {
          "output_type": "stream",
          "name": "stdout",
          "text": [
            "0\n",
            "1\n",
            "2\n",
            "3\n",
            "4\n",
            "5\n",
            "6\n",
            "7\n",
            "8\n",
            "9\n",
            "10\n"
          ]
        }
      ]
    },
    {
      "cell_type": "markdown",
      "source": [
        "13. If you had a function named bacon() inside a module named spam, how would you call it after\n",
        "importing spam?"
      ],
      "metadata": {
        "id": "ECAyROuSsD3h"
      }
    },
    {
      "cell_type": "code",
      "source": [
        "def spam():\n",
        "    print('This is spam')\n",
        "    def bacon():\n",
        "        print('This is bacon')"
      ],
      "metadata": {
        "id": "9Kbc7IFEr2wd"
      },
      "execution_count": 63,
      "outputs": []
    },
    {
      "cell_type": "code",
      "source": [
        ""
      ],
      "metadata": {
        "id": "31ijSt2XuxHN"
      },
      "execution_count": null,
      "outputs": []
    }
  ]
}