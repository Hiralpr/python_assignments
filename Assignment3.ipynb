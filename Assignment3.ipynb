{
  "nbformat": 4,
  "nbformat_minor": 0,
  "metadata": {
    "colab": {
      "name": "Assignment3.ipynb",
      "provenance": [],
      "collapsed_sections": []
    },
    "kernelspec": {
      "name": "python3",
      "display_name": "Python 3"
    },
    "language_info": {
      "name": "python"
    }
  },
  "cells": [
    {
      "cell_type": "markdown",
      "source": [
        "1. Why are functions advantageous to have in your programs? \n",
        "\n",
        "        - Using the function we can resue the code."
      ],
      "metadata": {
        "id": "b5gkTJ2zPLI7"
      }
    },
    {
      "cell_type": "markdown",
      "source": [
        "2. When does the code in a function run: when it's specified or when it's called?\n",
        "\n",
        "            - def function_name(): #Specify the function\n",
        "            print(function_name())   #runt the  function code."
      ],
      "metadata": {
        "id": "lpd2QjsDPePI"
      }
    },
    {
      "cell_type": "markdown",
      "source": [
        "3. What statement creates a function?   \n",
        "\n",
        "            -  using the def keyword we can create a function. ex. def func(arg1, arg2)"
      ],
      "metadata": {
        "id": "RaHsG6SmPw2J"
      }
    },
    {
      "cell_type": "markdown",
      "source": [
        "4. What is the difference between a function and a function call?  \n",
        "\n",
        "        - function: we can can write logic of the problem\n",
        "        - function call: we can excute the logic using the function call."
      ],
      "metadata": {
        "id": "Th6yIAolQTtp"
      }
    },
    {
      "cell_type": "markdown",
      "source": [
        "5. How many global scopes are there in a Python program? How many local scopes?  \n",
        "\n",
        "     - Global scope : within a class or program or excuted the end of the program\n",
        "     - local scope: within a function or execute end of the block or within a block."
      ],
      "metadata": {
        "id": "2JAe8V_RSsMc"
      }
    },
    {
      "cell_type": "markdown",
      "source": [
        "6. What happens to variables in a local scope when the function call returns?"
      ],
      "metadata": {
        "id": "lAtNwbzJewGA"
      }
    },
    {
      "cell_type": "code",
      "execution_count": 4,
      "metadata": {
        "id": "cqY6wLwGOmWQ",
        "colab": {
          "base_uri": "https://localhost:8080/",
          "height": 219
        },
        "outputId": "887f60bf-d232-4c36-c0f2-f6f76d8097f9"
      },
      "outputs": [
        {
          "output_type": "error",
          "ename": "NameError",
          "evalue": "ignored",
          "traceback": [
            "\u001b[0;31m---------------------------------------------------------------------------\u001b[0m",
            "\u001b[0;31mNameError\u001b[0m                                 Traceback (most recent call last)",
            "\u001b[0;32m<ipython-input-4-03dd067a6b79>\u001b[0m in \u001b[0;36m<module>\u001b[0;34m()\u001b[0m\n\u001b[1;32m      5\u001b[0m     \u001b[0;32mreturn\u001b[0m \u001b[0mtotal\u001b[0m\u001b[0;34m\u001b[0m\u001b[0;34m\u001b[0m\u001b[0m\n\u001b[1;32m      6\u001b[0m \u001b[0;34m\u001b[0m\u001b[0m\n\u001b[0;32m----> 7\u001b[0;31m \u001b[0mprint\u001b[0m\u001b[0;34m(\u001b[0m\u001b[0mtotal\u001b[0m\u001b[0;34m)\u001b[0m\u001b[0;34m\u001b[0m\u001b[0;34m\u001b[0m\u001b[0m\n\u001b[0m\u001b[1;32m      8\u001b[0m \u001b[0mprint\u001b[0m\u001b[0;34m(\u001b[0m\u001b[0msum\u001b[0m\u001b[0;34m(\u001b[0m\u001b[0;34m)\u001b[0m\u001b[0;34m)\u001b[0m\u001b[0;34m\u001b[0m\u001b[0;34m\u001b[0m\u001b[0m\n",
            "\u001b[0;31mNameError\u001b[0m: name 'total' is not defined"
          ]
        }
      ],
      "source": [
        "def sum():\n",
        "    n=20\n",
        "    m=30\n",
        "    total = n+m\n",
        "    return total\n",
        "\n",
        "print(total)\n",
        "print(sum())"
      ]
    },
    {
      "cell_type": "code",
      "source": [
        "def sum():\n",
        "    n=20\n",
        "    m=30\n",
        "    total = n+m\n",
        "    return total\n",
        "\n",
        "\n",
        "print(sum())"
      ],
      "metadata": {
        "id": "bQRD83z9RzJM",
        "colab": {
          "base_uri": "https://localhost:8080/"
        },
        "outputId": "577adb0d-c4d8-41ee-e698-b187fce95c99"
      },
      "execution_count": 5,
      "outputs": [
        {
          "output_type": "stream",
          "name": "stdout",
          "text": [
            "50\n"
          ]
        }
      ]
    },
    {
      "cell_type": "markdown",
      "source": [
        "7. What is the concept of a return value? Is it possible to have a return value in an expression?"
      ],
      "metadata": {
        "id": "Qcjeon53gTU7"
      }
    },
    {
      "cell_type": "markdown",
      "source": [
        "return value means whatvwre solution is get that return must that data type. if inside the function we write the return statement then its return the solution based on the type."
      ],
      "metadata": {
        "id": "qRAh23Bygbds"
      }
    },
    {
      "cell_type": "code",
      "source": [
        "def sum():\n",
        "    n = 20\n",
        "    m = 10\n",
        "    return n+m\n",
        "\n",
        "print(sum())"
      ],
      "metadata": {
        "colab": {
          "base_uri": "https://localhost:8080/"
        },
        "id": "u7LKFCKbgOQu",
        "outputId": "a0f9c4ed-64f7-4463-9ff4-68dd23934565"
      },
      "execution_count": 6,
      "outputs": [
        {
          "output_type": "stream",
          "name": "stdout",
          "text": [
            "30\n"
          ]
        }
      ]
    },
    {
      "cell_type": "markdown",
      "source": [
        "8. If a function does not have a return statement, what is the return value of a call to that function?"
      ],
      "metadata": {
        "id": "Rsnv1cDng2vt"
      }
    },
    {
      "cell_type": "code",
      "source": [
        "def sum():\n",
        "    n = 20\n",
        "    m = 10\n",
        "    #return n+m\n",
        "\n",
        "print(sum())"
      ],
      "metadata": {
        "colab": {
          "base_uri": "https://localhost:8080/"
        },
        "id": "NCqiKGRBgxX8",
        "outputId": "c2cb6e53-0f2b-491d-83b5-3f0e6d3b7847"
      },
      "execution_count": 7,
      "outputs": [
        {
          "output_type": "stream",
          "name": "stdout",
          "text": [
            "None\n"
          ]
        }
      ]
    },
    {
      "cell_type": "code",
      "source": [
        "def sum():\n",
        "    n = 20\n",
        "    m = 10\n",
        "    print(n+m)\n",
        "\n",
        "sum()"
      ],
      "metadata": {
        "colab": {
          "base_uri": "https://localhost:8080/"
        },
        "id": "e-ZlcgLfg5rz",
        "outputId": "d3ccc87f-c69e-4396-9937-2717f77cc468"
      },
      "execution_count": 9,
      "outputs": [
        {
          "output_type": "stream",
          "name": "stdout",
          "text": [
            "30\n"
          ]
        }
      ]
    },
    {
      "cell_type": "markdown",
      "source": [
        "9. How do you make a function variable refer to the global variable?"
      ],
      "metadata": {
        "id": "FfBOgxt_oqF0"
      }
    },
    {
      "cell_type": "code",
      "source": [
        "total = 100\n",
        "def sum():\n",
        "    global total\n",
        "    if total == 100:\n",
        "        total = 10\n",
        "\n",
        "print('total is',total)\n",
        "print(sum())\n",
        "print('total is',total)"
      ],
      "metadata": {
        "colab": {
          "base_uri": "https://localhost:8080/"
        },
        "id": "djqlfJqqoppB",
        "outputId": "a6b75d03-f1de-46c6-b16e-cc28ff6359f2"
      },
      "execution_count": 17,
      "outputs": [
        {
          "output_type": "stream",
          "name": "stdout",
          "text": [
            "total is 100\n",
            "None\n",
            "total is 10\n"
          ]
        }
      ]
    },
    {
      "cell_type": "markdown",
      "source": [
        "10. What is the data type of None?\n",
        "\n",
        "        - None data type is mean nothing or empty using a NoneType."
      ],
      "metadata": {
        "id": "YvMxWrh1qPGC"
      }
    },
    {
      "cell_type": "markdown",
      "source": [
        "11. What does the sentence import areallyourpetsnamederic do?\n",
        "\n",
        "            - It is represent import the areallyourpetsnamederic module"
      ],
      "metadata": {
        "id": "eM8vNWepqrpc"
      }
    },
    {
      "cell_type": "markdown",
      "source": [
        "12. If you had a bacon() feature in a spam module, what would you call it after importing spam?"
      ],
      "metadata": {
        "id": "42wN1ySRrp-n"
      }
    },
    {
      "cell_type": "code",
      "source": [
        "import spam\n",
        "spam.bacon()"
      ],
      "metadata": {
        "id": "5QCzQiTVg9i3"
      },
      "execution_count": null,
      "outputs": []
    },
    {
      "cell_type": "markdown",
      "source": [
        "13. What can you do to save a programme from crashing if it encounters an error?  \n",
        "\n",
        "            - We can write a error statement in try block."
      ],
      "metadata": {
        "id": "UOSCpcs2r4Y2"
      }
    },
    {
      "cell_type": "markdown",
      "source": [
        "14. What is the purpose of the try clause? What is the purpose of the except clause?   \n",
        "\n",
        "            - Try: we can write a error statemet in try block.\n",
        "            - except: write a code that will excuted when the error occur which is writeen in try block"
      ],
      "metadata": {
        "id": "nFkW96zFsFwZ"
      }
    }
  ]
}