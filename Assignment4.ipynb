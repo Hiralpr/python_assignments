{
  "nbformat": 4,
  "nbformat_minor": 0,
  "metadata": {
    "colab": {
      "name": "Assignment4.ipynb",
      "provenance": [],
      "collapsed_sections": []
    },
    "kernelspec": {
      "name": "python3",
      "display_name": "Python 3"
    },
    "language_info": {
      "name": "python"
    }
  },
  "cells": [
    {
      "cell_type": "markdown",
      "source": [
        "1. What exactly is []?   \n",
        "\n",
        "                - List\n"
      ],
      "metadata": {
        "id": "OlLmQ_TVT5s5"
      }
    },
    {
      "cell_type": "markdown",
      "source": [
        "2. In a list of values stored in a variable called spam, how would you assign the value &#39;hello&#39; as the\n",
        "third value? (Assume [2, 4, 6, 8, 10] are in spam.) "
      ],
      "metadata": {
        "id": "T4veXEijUA1L"
      }
    },
    {
      "cell_type": "code",
      "execution_count": null,
      "metadata": {
        "colab": {
          "base_uri": "https://localhost:8080/"
        },
        "id": "BwylM9HQTvmo",
        "outputId": "9f70edcc-a4e1-4362-b1db-ff299ebd38c9"
      },
      "outputs": [
        {
          "output_type": "execute_result",
          "data": {
            "text/plain": [
              "[2, 4, 'hello', 6, 8, 10]"
            ]
          },
          "metadata": {},
          "execution_count": 15
        }
      ],
      "source": [
        "spam = list(range(2,11,2))\n",
        "spam.insert(2, 'hello')\n",
        "spam"
      ]
    },
    {
      "cell_type": "markdown",
      "source": [
        "3. What is the value of spam[int(int('39'* 2) / 11)]?  \n"
      ],
      "metadata": {
        "id": "FjeF3L2HVbbZ"
      }
    },
    {
      "cell_type": "code",
      "source": [
        "spam = ['a','b','c','d']"
      ],
      "metadata": {
        "id": "N518BM_Y09T3"
      },
      "execution_count": null,
      "outputs": []
    },
    {
      "cell_type": "code",
      "source": [
        "spam[int(int('3' * 2) / 11)]"
      ],
      "metadata": {
        "colab": {
          "base_uri": "https://localhost:8080/",
          "height": 35
        },
        "id": "FsSYgW1nUHj7",
        "outputId": "74eaebce-9257-4e4e-d32a-e6ae4e2fecc2"
      },
      "execution_count": null,
      "outputs": [
        {
          "output_type": "execute_result",
          "data": {
            "text/plain": [
              "'d'"
            ],
            "application/vnd.google.colaboratory.intrinsic+json": {
              "type": "string"
            }
          },
          "metadata": {},
          "execution_count": 20
        }
      ]
    },
    {
      "cell_type": "code",
      "source": [
        "spam[-1]"
      ],
      "metadata": {
        "colab": {
          "base_uri": "https://localhost:8080/",
          "height": 35
        },
        "id": "4G2PFbFZWMPU",
        "outputId": "5b03e3c0-d586-4a8b-f2f2-b6e7b6b2e8ab"
      },
      "execution_count": null,
      "outputs": [
        {
          "output_type": "execute_result",
          "data": {
            "text/plain": [
              "'d'"
            ],
            "application/vnd.google.colaboratory.intrinsic+json": {
              "type": "string"
            }
          },
          "metadata": {},
          "execution_count": 25
        }
      ]
    },
    {
      "cell_type": "markdown",
      "source": [
        "5. What is the value of spam[:2]?  "
      ],
      "metadata": {
        "id": "IzDExisXWdG0"
      }
    },
    {
      "cell_type": "code",
      "source": [
        "spam[:2]"
      ],
      "metadata": {
        "colab": {
          "base_uri": "https://localhost:8080/"
        },
        "id": "Nt_5B2y3WZw7",
        "outputId": "c9d2e5a3-e733-4195-d38c-76b983ae8687"
      },
      "execution_count": null,
      "outputs": [
        {
          "output_type": "execute_result",
          "data": {
            "text/plain": [
              "['a', 'b']"
            ]
          },
          "metadata": {},
          "execution_count": 26
        }
      ]
    },
    {
      "cell_type": "code",
      "source": [
        "bacon = [3.14, 'cat', 11,'cat', True]"
      ],
      "metadata": {
        "id": "CHUgRXc_WgEh"
      },
      "execution_count": null,
      "outputs": []
    },
    {
      "cell_type": "markdown",
      "source": [
        "6. What is the value of bacon.index('cat')?"
      ],
      "metadata": {
        "id": "jcoqoBUk2CmP"
      }
    },
    {
      "cell_type": "code",
      "source": [
        "index = bacon.index('cat')\n",
        "index"
      ],
      "metadata": {
        "colab": {
          "base_uri": "https://localhost:8080/"
        },
        "id": "ltFeqR0Y1_m9",
        "outputId": "54648838-aa75-4df1-ce4f-5ed2e37d7af4"
      },
      "execution_count": null,
      "outputs": [
        {
          "output_type": "execute_result",
          "data": {
            "text/plain": [
              "1"
            ]
          },
          "metadata": {},
          "execution_count": 30
        }
      ]
    },
    {
      "cell_type": "code",
      "source": [
        "next_index = bacon.index('cat', index+1)\n",
        "next_index"
      ],
      "metadata": {
        "colab": {
          "base_uri": "https://localhost:8080/"
        },
        "id": "C_4yvvEt2Ilz",
        "outputId": "cc3e620f-a420-4463-c4e9-6f8c4417af47"
      },
      "execution_count": null,
      "outputs": [
        {
          "output_type": "execute_result",
          "data": {
            "text/plain": [
              "3"
            ]
          },
          "metadata": {},
          "execution_count": 32
        }
      ]
    },
    {
      "cell_type": "markdown",
      "source": [
        "7. How does bacon.append(99) change the look of the list value in bacon?\n",
        "\n",
        "        - it is append the element in last place."
      ],
      "metadata": {
        "id": "hS-ro5Mv2aYj"
      }
    },
    {
      "cell_type": "code",
      "source": [
        "bacon.append(99)\n",
        "bacon"
      ],
      "metadata": {
        "colab": {
          "base_uri": "https://localhost:8080/"
        },
        "id": "aHPmjhUv2Tr-",
        "outputId": "64c789ee-331e-45a2-a57d-c94c7c43f94c"
      },
      "execution_count": null,
      "outputs": [
        {
          "output_type": "execute_result",
          "data": {
            "text/plain": [
              "[3.14, 'cat', 11, 'cat', True, 99]"
            ]
          },
          "metadata": {},
          "execution_count": 48
        }
      ]
    },
    {
      "cell_type": "markdown",
      "source": [
        "8. How does bacon.remove(&#39;cat&#39;) change the look of the list in bacon?"
      ],
      "metadata": {
        "id": "n1a192Es2qli"
      }
    },
    {
      "cell_type": "code",
      "source": [
        "bacon.remove('cat')\n",
        "bacon"
      ],
      "metadata": {
        "colab": {
          "base_uri": "https://localhost:8080/"
        },
        "id": "S0wT-ZrR2iTL",
        "outputId": "252b71c6-cb66-43d2-a1b9-db3423e093ed"
      },
      "execution_count": null,
      "outputs": [
        {
          "output_type": "execute_result",
          "data": {
            "text/plain": [
              "[3.14, 11, 'cat', True, 99]"
            ]
          },
          "metadata": {},
          "execution_count": 49
        }
      ]
    },
    {
      "cell_type": "markdown",
      "source": [
        "9. What are the list concatenation and list replication operators?"
      ],
      "metadata": {
        "id": "2OCe_4x53hKB"
      }
    },
    {
      "cell_type": "markdown",
      "source": [
        "10. What is difference between the list methods append() and insert()?   \n",
        "\n",
        "        - append(): This method is able to insert data in list at last position.\n",
        "        - insert(): This method is able to insert data in list at given specifica index postion.\n",
        "        -  which given by as argument inside a index method"
      ],
      "metadata": {
        "id": "TSTWhPGJ3mtH"
      }
    },
    {
      "cell_type": "markdown",
      "source": [
        "11. What are the two methods for removing items from a list?\n",
        "        - pop\n",
        "        - del\n",
        "        - remove"
      ],
      "metadata": {
        "id": "Ov25ddOI4NhZ"
      }
    },
    {
      "cell_type": "markdown",
      "source": [
        "12. Describe how list values and string values are identical.   \n",
        "\n",
        "        - String is imutable and list is mutable.\n",
        "        - string contains a number of chacter like 'abc2@', list is contains all the data types values like [1, 1.2, 'abc', None, True]"
      ],
      "metadata": {
        "id": "bWDSTLVU4V22"
      }
    },
    {
      "cell_type": "markdown",
      "source": [
        "13. What&#39;s the difference between tuples and lists?\n",
        "\n",
        "        - Tuple is immutable.where list is mutable.\n",
        "        - Tuple is faster then list.\n",
        "        - Not able to change in data in tuple that's why tuple is more memory efficient insted of list."
      ],
      "metadata": {
        "id": "oyUtDqYY4ZaQ"
      }
    },
    {
      "cell_type": "markdown",
      "source": [
        "14. How do you type a tuple value that only contains the integer 42?"
      ],
      "metadata": {
        "id": "aSh0fOJU5YMX"
      }
    },
    {
      "cell_type": "code",
      "source": [
        "tup = 42\n",
        "print(type(tup))"
      ],
      "metadata": {
        "colab": {
          "base_uri": "https://localhost:8080/"
        },
        "id": "6u76rykq4Y2F",
        "outputId": "3c5bd60a-0b86-40fb-b898-206cb8f6c17a"
      },
      "execution_count": null,
      "outputs": [
        {
          "output_type": "stream",
          "name": "stdout",
          "text": [
            "<class 'int'>\n"
          ]
        }
      ]
    },
    {
      "cell_type": "code",
      "source": [
        "tup1 = 42,\n",
        "print(type(tup1))"
      ],
      "metadata": {
        "colab": {
          "base_uri": "https://localhost:8080/"
        },
        "id": "FYqlk1us3H0e",
        "outputId": "cc94d000-bf0f-4d98-e2bd-d9b1ba87e631"
      },
      "execution_count": null,
      "outputs": [
        {
          "output_type": "stream",
          "name": "stdout",
          "text": [
            "<class 'tuple'>\n"
          ]
        }
      ]
    },
    {
      "cell_type": "markdown",
      "source": [
        "15. How do you get a list value&#39;s tuple form? How do you get a tuple value&#39;s list form?"
      ],
      "metadata": {
        "id": "E-ZiZJAq5p9y"
      }
    },
    {
      "cell_type": "code",
      "source": [
        "l1 = list(range(0,10))\n",
        "l1"
      ],
      "metadata": {
        "colab": {
          "base_uri": "https://localhost:8080/"
        },
        "id": "Zq9Z_05B3U-Z",
        "outputId": "77899fc3-435f-41df-d7d6-d6aca7f71bb4"
      },
      "execution_count": null,
      "outputs": [
        {
          "output_type": "execute_result",
          "data": {
            "text/plain": [
              "[0, 1, 2, 3, 4, 5, 6, 7, 8, 9]"
            ]
          },
          "metadata": {},
          "execution_count": 53
        }
      ]
    },
    {
      "cell_type": "code",
      "source": [
        "t1 = tuple(range(100,110))\n",
        "t1"
      ],
      "metadata": {
        "colab": {
          "base_uri": "https://localhost:8080/"
        },
        "id": "c2z44G-t6Z6N",
        "outputId": "2540a26a-cbe7-426b-902e-871eef14c45e"
      },
      "execution_count": null,
      "outputs": [
        {
          "output_type": "execute_result",
          "data": {
            "text/plain": [
              "(100, 101, 102, 103, 104, 105, 106, 107, 108, 109)"
            ]
          },
          "metadata": {},
          "execution_count": 54
        }
      ]
    },
    {
      "cell_type": "code",
      "source": [
        "l1 = tuple(l1)\n",
        "print(type(l1))"
      ],
      "metadata": {
        "colab": {
          "base_uri": "https://localhost:8080/"
        },
        "id": "CDDTkpth6Y0d",
        "outputId": "fbdc6a0e-3051-475e-c37d-3f0ce07b1941"
      },
      "execution_count": null,
      "outputs": [
        {
          "output_type": "stream",
          "name": "stdout",
          "text": [
            "<class 'tuple'>\n"
          ]
        }
      ]
    },
    {
      "cell_type": "code",
      "source": [
        "t1 = list(t1)\n",
        "print(type(t1))"
      ],
      "metadata": {
        "colab": {
          "base_uri": "https://localhost:8080/"
        },
        "id": "rAkuVvN26kc4",
        "outputId": "5dec1c3e-e563-4c41-ab1a-621400084062"
      },
      "execution_count": null,
      "outputs": [
        {
          "output_type": "stream",
          "name": "stdout",
          "text": [
            "<class 'list'>\n"
          ]
        }
      ]
    },
    {
      "cell_type": "markdown",
      "source": [
        "16. Variables that &quot;contain&quot; list values are not necessarily lists themselves. Instead, what do they\n",
        "contain?"
      ],
      "metadata": {
        "id": "VrKaQ3c665aR"
      }
    },
    {
      "cell_type": "code",
      "source": [
        ""
      ],
      "metadata": {
        "colab": {
          "base_uri": "https://localhost:8080/"
        },
        "id": "nLY6L-8e95rN",
        "outputId": "c872682d-8e17-4217-fd34-65f84ee91dff"
      },
      "execution_count": null,
      "outputs": [
        {
          "output_type": "stream",
          "name": "stdout",
          "text": [
            "<class 'tuple'>\n"
          ]
        }
      ]
    },
    {
      "cell_type": "markdown",
      "source": [
        "17. How do you distinguish between copy.copy() and copy.deepcopy()?   \n",
        "        \n",
        "        - copy() create reference to original object. If i do the change copied objectit also affeced original object.\n",
        "        - deepcopy() creates new object and does real copying of original object to new one. \n",
        "            - Changing new deepcopied object doesn't affect original object."
      ],
      "metadata": {
        "id": "V0om20Je68tG"
      }
    }
  ]
}