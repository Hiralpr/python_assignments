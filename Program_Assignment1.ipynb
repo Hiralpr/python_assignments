{
  "nbformat": 4,
  "nbformat_minor": 0,
  "metadata": {
    "colab": {
      "name": "Program_Assignment1.ipynb",
      "provenance": [],
      "collapsed_sections": []
    },
    "kernelspec": {
      "name": "python3",
      "display_name": "Python 3"
    },
    "language_info": {
      "name": "python"
    }
  },
  "cells": [
    {
      "cell_type": "markdown",
      "source": [
        "Write a Python program to print &quot;Hello Python&quot;?"
      ],
      "metadata": {
        "id": "tZMLdorNox2O"
      }
    },
    {
      "cell_type": "code",
      "execution_count": 1,
      "metadata": {
        "colab": {
          "base_uri": "https://localhost:8080/"
        },
        "id": "uOvRr6PWoE-I",
        "outputId": "3d0b7582-954f-402e-eb5f-32e1faabade9"
      },
      "outputs": [
        {
          "output_type": "stream",
          "name": "stdout",
          "text": [
            "Hello Python\n"
          ]
        }
      ],
      "source": [
        "print('Hello Python')"
      ]
    },
    {
      "cell_type": "markdown",
      "source": [
        "Write a Python program to do arithmetical operations addition and division.?"
      ],
      "metadata": {
        "id": "GmRDF8WIo5ag"
      }
    },
    {
      "cell_type": "code",
      "source": [
        "a = int(input(\"Enter first number\"))\n",
        "b = int(input('Enter second number'))\n",
        "ch = input('Enter the user choice')\n",
        "if ch == '1':\n",
        "    c = a +b\n",
        "    print(str(c))\n",
        "if ch == '2':\n",
        "    c = a +b\n",
        "    print(str(c))\n",
        "if ch == '3':\n",
        "    c = a +b\n",
        "    print(str(c))\n",
        "elif ch == '4':\n",
        "    c = a/b\n",
        "    print(str(c))\n",
        "else:\n",
        "    print('invalid choice')"
      ],
      "metadata": {
        "colab": {
          "base_uri": "https://localhost:8080/"
        },
        "id": "jhWrrAq6o167",
        "outputId": "c9987f75-ac33-4db2-be49-19dc86a31491"
      },
      "execution_count": 4,
      "outputs": [
        {
          "output_type": "stream",
          "name": "stdout",
          "text": [
            "Enter first number1\n",
            "Enter second number2\n",
            "Enter the user choice1\n",
            "3\n"
          ]
        }
      ]
    },
    {
      "cell_type": "markdown",
      "source": [
        "Write a Python program to find the area of a triangle?"
      ],
      "metadata": {
        "id": "Hn3uFC5lp-Iy"
      }
    },
    {
      "cell_type": "code",
      "source": [
        "def are_triagle():\n",
        "    b = float(input('Enter the value'))\n",
        "    h = float(input('Enter the value'))\n",
        "    area = 1/2 * b * h\n",
        "    print(area)\n",
        "\n",
        "print(are_triagle())"
      ],
      "metadata": {
        "colab": {
          "base_uri": "https://localhost:8080/"
        },
        "id": "STfIGnBUpjU2",
        "outputId": "291c10bd-a6d9-459e-c279-6aa8b0b9e866"
      },
      "execution_count": 7,
      "outputs": [
        {
          "output_type": "stream",
          "name": "stdout",
          "text": [
            "Enter the value4\n",
            "Enter the value3\n",
            "6.0\n",
            "None\n"
          ]
        }
      ]
    },
    {
      "cell_type": "markdown",
      "source": [
        "4. Write a Python program to swap two variables?"
      ],
      "metadata": {
        "id": "hoq1dzcCrGVN"
      }
    },
    {
      "cell_type": "code",
      "source": [
        "def swap_variable():\n",
        "    a = int(input(\"Enter the value\"))\n",
        "    b = int(input('Enter the value'))\n",
        "    print(a,b)\n",
        "    t=a\n",
        "    a =b\n",
        "    b =t\n",
        "    print(a,b)\n",
        "\n",
        "\n",
        "print(swap_variable())"
      ],
      "metadata": {
        "colab": {
          "base_uri": "https://localhost:8080/"
        },
        "id": "U6urTA6TqyVM",
        "outputId": "cf17bba4-9492-45fa-f34b-eba0fcfdd753"
      },
      "execution_count": 10,
      "outputs": [
        {
          "output_type": "stream",
          "name": "stdout",
          "text": [
            "Enter the value10\n",
            "Enter the value20\n",
            "10 20\n",
            "20 10\n",
            "None\n"
          ]
        }
      ]
    },
    {
      "cell_type": "markdown",
      "source": [
        "Write a Python program to generate a random number?"
      ],
      "metadata": {
        "id": "T7zGKBpmryt3"
      }
    },
    {
      "cell_type": "code",
      "source": [
        "import random\n",
        "def gen_random_number():\n",
        "    a = int(input(\"Enter starting random number interval  \"))\n",
        "    b = int(input(\"Enter ending random number interval  \"))\n",
        "    c = random.randrange(a,b)\n",
        "    print(c)\n",
        "\n",
        "print(gen_random_number())"
      ],
      "metadata": {
        "colab": {
          "base_uri": "https://localhost:8080/"
        },
        "id": "xeMltYOgre4m",
        "outputId": "60ed0a32-5027-4881-ea38-2f3b838adb5d"
      },
      "execution_count": 14,
      "outputs": [
        {
          "output_type": "stream",
          "name": "stdout",
          "text": [
            "Enter starting random number interval  10\n",
            "Enter ending random number interval  11\n",
            "10\n",
            "None\n"
          ]
        }
      ]
    }
  ]
}