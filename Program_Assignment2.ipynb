{
  "nbformat": 4,
  "nbformat_minor": 0,
  "metadata": {
    "colab": {
      "name": "Program_Assignment2.ipynb",
      "provenance": [],
      "collapsed_sections": []
    },
    "kernelspec": {
      "name": "python3",
      "display_name": "Python 3"
    },
    "language_info": {
      "name": "python"
    }
  },
  "cells": [
    {
      "cell_type": "markdown",
      "source": [
        "Write a Python program to convert kilometers to miles?"
      ],
      "metadata": {
        "id": "2AhF2kJitPp_"
      }
    },
    {
      "cell_type": "code",
      "execution_count": 3,
      "metadata": {
        "colab": {
          "base_uri": "https://localhost:8080/"
        },
        "id": "FOwfxKpTtOz4",
        "outputId": "9c4039f2-9cf0-4673-815d-c72434ebe256"
      },
      "outputs": [
        {
          "output_type": "stream",
          "name": "stdout",
          "text": [
            "Enter the kilo-meter from the user  6.0\n",
            "miles is:  3.72795\n"
          ]
        }
      ],
      "source": [
        "kilo_meter = float(input(\"Enter the kilo-meter from the user  \"))\n",
        "\n",
        "#conversion value for miles\n",
        "con_value = 0.621325\n",
        "\n",
        "miles = kilo_meter * con_value\n",
        "\n",
        "print('miles is: ', miles)"
      ]
    },
    {
      "cell_type": "markdown",
      "source": [
        "2. Write a Python program to convert Celsius to Fahrenheit?"
      ],
      "metadata": {
        "id": "7v5VAMVFuV6-"
      }
    },
    {
      "cell_type": "markdown",
      "source": [
        " Celsius to Fahrenheit = (50°F - 32) x .5556 = 10°C   \n",
        " \n",
        " Fahrenheit to Celsius = (30°C x 1.8) + 32 = 86°F"
      ],
      "metadata": {
        "id": "goViqsmzuu5i"
      }
    },
    {
      "cell_type": "code",
      "source": [
        "def temp_converstion():\n",
        "    print('1. Celsius to Fahrenheit \\n2. Fahrenheit to Celsius')\n",
        "    ch = int(input(\"Enter your choice\"))\n",
        "    a = float(input('Enter the value'))\n",
        "    def cel_fah():\n",
        "        fah = (a - 32)*0.5556\n",
        "        print('Celsius to Fahrenheit', fah)\n",
        "    def fah_cel():\n",
        "        cel = (a * 1.8) + 32\n",
        "        print(\"Fahrenheit to Celsius\", cel)\n",
        "\n",
        "    if ch == 1:\n",
        "        return cel_fah()\n",
        "    elif ch == 2:\n",
        "        return fah_cel()\n",
        "    else: \n",
        "        return \"Invalid choice\"\n",
        "\n",
        "\n",
        "print(temp_converstion())"
      ],
      "metadata": {
        "colab": {
          "base_uri": "https://localhost:8080/"
        },
        "id": "DBIWXY4huE7C",
        "outputId": "83818436-14ff-493c-adec-e14669dcb28a"
      },
      "execution_count": 9,
      "outputs": [
        {
          "output_type": "stream",
          "name": "stdout",
          "text": [
            "1. Celsius to Fahrenheit \n",
            "2. Fahrenheit to Celsius\n",
            "Enter your choice2\n",
            "Enter the value34\n",
            "Fahrenheit to Celsius 93.2\n",
            "None\n"
          ]
        }
      ]
    },
    {
      "cell_type": "markdown",
      "source": [
        "3. Write a Python program to display calendar?"
      ],
      "metadata": {
        "id": "20GWeUP5xdsB"
      }
    },
    {
      "cell_type": "code",
      "source": [
        "import calendar\n",
        "calendar?"
      ],
      "metadata": {
        "id": "aL9sJ5C1wRZx"
      },
      "execution_count": 13,
      "outputs": []
    },
    {
      "cell_type": "code",
      "source": [
        "yy = int(input(\"Enter the year\"))\n",
        "mm = int(input(\"Enter the month\"))\n",
        "print(calendar.month(yy,mm))"
      ],
      "metadata": {
        "colab": {
          "base_uri": "https://localhost:8080/"
        },
        "id": "aTft3qIrxrCI",
        "outputId": "fc68afff-6388-4fc3-b306-407dd469080d"
      },
      "execution_count": 14,
      "outputs": [
        {
          "output_type": "stream",
          "name": "stdout",
          "text": [
            "Enter the year1995\n",
            "Enter the month7\n",
            "     July 1995\n",
            "Mo Tu We Th Fr Sa Su\n",
            "                1  2\n",
            " 3  4  5  6  7  8  9\n",
            "10 11 12 13 14 15 16\n",
            "17 18 19 20 21 22 23\n",
            "24 25 26 27 28 29 30\n",
            "31\n",
            "\n"
          ]
        }
      ]
    },
    {
      "cell_type": "markdown",
      "source": [
        "4. Write a Python program to solve quadratic equation?"
      ],
      "metadata": {
        "id": "YXVwwwA7yTiz"
      }
    },
    {
      "cell_type": "code",
      "source": [
        "a = int(input(\"Enter the value for a\"))\n",
        "b = int(input('Enter the value for b'))\n",
        "c = int(input(\"Enter the value for c\"))\n",
        "x= int(input('Enter the value for x'))\n",
        "\n",
        "f = (a*(x**2) + (b * x) + c)\n",
        "print(f)"
      ],
      "metadata": {
        "colab": {
          "base_uri": "https://localhost:8080/"
        },
        "id": "rKxgHGOLyM7h",
        "outputId": "e205e1cf-2eee-4b81-e953-0633a4b878bd"
      },
      "execution_count": 16,
      "outputs": [
        {
          "output_type": "stream",
          "name": "stdout",
          "text": [
            "Enter the value for a1\n",
            "Enter the value for b5\n",
            "Enter the value for c6\n",
            "Enter the value for x3\n",
            "30\n"
          ]
        }
      ]
    },
    {
      "cell_type": "markdown",
      "source": [
        "5. Write a Python program to swap two variables without temp variable?"
      ],
      "metadata": {
        "id": "piIrq5ya0Kax"
      }
    },
    {
      "cell_type": "code",
      "source": [
        "a = int(input(\"Enter the value for a\"))\n",
        "b = int(input('Enter the value for b'))\n",
        "\n",
        "print(a,b)\n",
        "\n",
        "a = a+b\n",
        "b = a-b\n",
        "a = a-b\n",
        "\n",
        "print(a,b)\n"
      ],
      "metadata": {
        "colab": {
          "base_uri": "https://localhost:8080/"
        },
        "id": "gO8CYkCizJy1",
        "outputId": "83a1793d-7fcb-45d8-ccb0-94bb9f899ff5"
      },
      "execution_count": 19,
      "outputs": [
        {
          "output_type": "stream",
          "name": "stdout",
          "text": [
            "Enter the value for a10\n",
            "Enter the value for b20\n",
            "10 20\n",
            "20 10\n"
          ]
        }
      ]
    },
    {
      "cell_type": "code",
      "source": [
        ""
      ],
      "metadata": {
        "id": "UscVTQN90W-A"
      },
      "execution_count": null,
      "outputs": []
    }
  ]
}