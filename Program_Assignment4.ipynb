{
  "nbformat": 4,
  "nbformat_minor": 0,
  "metadata": {
    "colab": {
      "name": "Program_Assignment4.ipynb",
      "provenance": [],
      "collapsed_sections": []
    },
    "kernelspec": {
      "name": "python3",
      "display_name": "Python 3"
    },
    "language_info": {
      "name": "python"
    }
  },
  "cells": [
    {
      "cell_type": "markdown",
      "source": [
        "Write a Python Program to Find the Factorial of a Number?"
      ],
      "metadata": {
        "id": "2HU7XJh-V02G"
      }
    },
    {
      "cell_type": "code",
      "execution_count": null,
      "metadata": {
        "colab": {
          "base_uri": "https://localhost:8080/"
        },
        "id": "G8GT6AxKVvVh",
        "outputId": "252f6d00-cb12-4fc3-f8f6-205f54b15d58"
      },
      "outputs": [
        {
          "output_type": "stream",
          "name": "stdout",
          "text": [
            "Enter the number5\n",
            "factorial is:  120\n"
          ]
        }
      ],
      "source": [
        "a  = int(input(\"Enter the number \"))\n",
        "\n",
        "def factorial(a):\n",
        "    if a == 1:\n",
        "        return 1\n",
        "    else:\n",
        "        return a* factorial(a-1)\n",
        "fact_val = factorial(a)\n",
        "print('factorial is: ',fact_val)"
      ]
    },
    {
      "cell_type": "markdown",
      "source": [
        "Write a Python Program to Display the multiplication Table?"
      ],
      "metadata": {
        "id": "XRvS2vAAZQs-"
      }
    },
    {
      "cell_type": "code",
      "source": [
        "n = int(input('Enter the starting value'))\n",
        "m = int(input('Enter the ending value'))\n",
        "\n",
        "for i in range(n, m+1):\n",
        "    for j in range(1,11):\n",
        "        print(i, '*', j, '=', i*j )"
      ],
      "metadata": {
        "colab": {
          "base_uri": "https://localhost:8080/"
        },
        "id": "0vd7uTYDX6ac",
        "outputId": "dba0d3d5-970c-472f-d600-82e90702a9e4"
      },
      "execution_count": null,
      "outputs": [
        {
          "output_type": "stream",
          "name": "stdout",
          "text": [
            "Enter the starting value2\n",
            "Enter the ending value3\n",
            "2 * 1 = 2\n",
            "2 * 2 = 4\n",
            "2 * 3 = 6\n",
            "2 * 4 = 8\n",
            "2 * 5 = 10\n",
            "2 * 6 = 12\n",
            "2 * 7 = 14\n",
            "2 * 8 = 16\n",
            "2 * 9 = 18\n",
            "2 * 10 = 20\n",
            "3 * 1 = 3\n",
            "3 * 2 = 6\n",
            "3 * 3 = 9\n",
            "3 * 4 = 12\n",
            "3 * 5 = 15\n",
            "3 * 6 = 18\n",
            "3 * 7 = 21\n",
            "3 * 8 = 24\n",
            "3 * 9 = 27\n",
            "3 * 10 = 30\n"
          ]
        }
      ]
    },
    {
      "cell_type": "markdown",
      "source": [
        "Write a Python Program to Print the Fibonacci sequence?"
      ],
      "metadata": {
        "id": "BdsG1gduqKea"
      }
    },
    {
      "cell_type": "code",
      "source": [
        "def fib(num):\n",
        "  a=0  #frist number\n",
        "  b=1  #secon number\n",
        "  if num == 1:\n",
        "    print(a)\n",
        "  elif num == 2:\n",
        "    print(a,b)\n",
        "  else:\n",
        "    print(a,b,end=\" \")\n",
        "    for i in range(num-2):\n",
        "      c=a+b  #1\n",
        "      a=b\n",
        "      b=c\n",
        "      print(b,end=\" \")\n",
        "\n",
        "number=int(input(\"Enter a number: \"))\n",
        "print(fib(number))\n"
      ],
      "metadata": {
        "colab": {
          "base_uri": "https://localhost:8080/"
        },
        "id": "7NKAMyFsZMF0",
        "outputId": "a1677d9b-789d-4bc1-f9de-97f32c275356"
      },
      "execution_count": null,
      "outputs": [
        {
          "output_type": "stream",
          "name": "stdout",
          "text": [
            "Enter a number: 5\n",
            "0 1 1 2 3 None\n"
          ]
        }
      ]
    },
    {
      "cell_type": "markdown",
      "source": [
        "Write a Python Program to Check Armstrong Number?"
      ],
      "metadata": {
        "id": "Qt_xNpMbqi1m"
      }
    },
    {
      "cell_type": "code",
      "source": [
        "a = input('enter the number ')\n",
        "\n",
        "\n",
        "if a == a[::-1]:\n",
        "    print('number is amstrong')\n",
        "else:\n",
        "    print('number is not amstrong')"
      ],
      "metadata": {
        "colab": {
          "base_uri": "https://localhost:8080/"
        },
        "id": "Kr_30yWPqYHh",
        "outputId": "5f69a05d-da01-4a9e-f9a0-76568c72a135"
      },
      "execution_count": 5,
      "outputs": [
        {
          "output_type": "stream",
          "name": "stdout",
          "text": [
            "enter the number 121\n",
            "number is amstrong\n"
          ]
        }
      ]
    },
    {
      "cell_type": "markdown",
      "source": [
        "Write a Python Program to Find the Sum of Natural Numbers?"
      ],
      "metadata": {
        "id": "l7uZcAzxWYK9"
      }
    },
    {
      "cell_type": "code",
      "source": [
        "num = int(input(\"Enter the numern that you wan to add it\"))\n",
        "sum = 0\n",
        "for i in range(1, num+1):\n",
        "    sum = sum + i\n",
        "print(sum)"
      ],
      "metadata": {
        "id": "imwN_utZrVcB",
        "colab": {
          "base_uri": "https://localhost:8080/"
        },
        "outputId": "2cede828-8f1b-4f19-ff70-1eacf2fe346f"
      },
      "execution_count": 10,
      "outputs": [
        {
          "output_type": "stream",
          "name": "stdout",
          "text": [
            "Enter the numern that you wan to add it3\n",
            "6\n"
          ]
        }
      ]
    },
    {
      "cell_type": "code",
      "source": [
        ""
      ],
      "metadata": {
        "id": "t6IcV-C_W9mN"
      },
      "execution_count": 8,
      "outputs": []
    }
  ]
}