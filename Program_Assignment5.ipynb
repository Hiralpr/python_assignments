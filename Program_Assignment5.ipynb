{
  "nbformat": 4,
  "nbformat_minor": 0,
  "metadata": {
    "colab": {
      "name": "Program_Assignment5.ipynb",
      "provenance": [],
      "collapsed_sections": []
    },
    "kernelspec": {
      "name": "python3",
      "display_name": "Python 3"
    },
    "language_info": {
      "name": "python"
    }
  },
  "cells": [
    {
      "cell_type": "markdown",
      "source": [
        "Write a Python Program to Find LCM?"
      ],
      "metadata": {
        "id": "P3zFTYngZNLN"
      }
    },
    {
      "cell_type": "code",
      "execution_count": 7,
      "metadata": {
        "colab": {
          "base_uri": "https://localhost:8080/"
        },
        "id": "XjIFIxmzZCIt",
        "outputId": "1ae73ff1-3c5e-41a2-d453-0616e6a33b8d"
      },
      "outputs": [
        {
          "output_type": "stream",
          "name": "stdout",
          "text": [
            "Enter the num124\n",
            "Enter the num254\n",
            "216\n"
          ]
        }
      ],
      "source": [
        "num1 =int(input(\"Enter the num1\"))\n",
        "num2 = int(input(\"Enter the num2\"))\n",
        "\n",
        "def lcm(x,y):\n",
        "    if x>y:\n",
        "        greater  = x\n",
        "    greater = y\n",
        "\n",
        "    while(True):\n",
        "        if((greater % x == 0)and (greater % y == 0)):\n",
        "            break\n",
        "        greater +=1\n",
        "    return greater\n",
        "\n",
        "print(lcm(num1, num2))\n",
        "\n"
      ]
    },
    {
      "cell_type": "markdown",
      "source": [
        "Write a Python Program to Find HCF?"
      ],
      "metadata": {
        "id": "xmRfQA5bZO6t"
      }
    },
    {
      "cell_type": "code",
      "source": [
        "num1 =int(input(\"Enter the num1\"))\n",
        "num2 = int(input(\"Enter the num2\"))\n",
        "\n",
        "def HCF(x,y):\n",
        "    if x>y:\n",
        "        smaller  = y\n",
        "    smaller = x\n",
        "    for i in range(1, smaller+1):\n",
        "        if((x % i == 0)and (y % i == 0)):\n",
        "          smaller = i\n",
        "    return smaller\n",
        "\n",
        "print(HCF(num1, num2))\n",
        "\n"
      ],
      "metadata": {
        "colab": {
          "base_uri": "https://localhost:8080/"
        },
        "id": "k1pGZAM_ZRLF",
        "outputId": "7ea4d1d0-c3ee-42cc-e1b4-5914a3eb6580"
      },
      "execution_count": 11,
      "outputs": [
        {
          "output_type": "stream",
          "name": "stdout",
          "text": [
            "Enter the num154\n",
            "Enter the num224\n",
            "6\n"
          ]
        }
      ]
    },
    {
      "cell_type": "markdown",
      "source": [
        "Write a Python Program to Convert Decimal to Binary, Octal and Hexadecimal?"
      ],
      "metadata": {
        "id": "JFFfbOifZRwA"
      }
    },
    {
      "cell_type": "code",
      "source": [
        "num1  = int(input('Enter a binary number that you want to convert in binary, hexa and octal number'))\n",
        "\n",
        "print(\"Binary Number\" , bin(num1))\n",
        "print(\"Octal Number\" , oct(num1))\n",
        "print(\"HexaDecima Number\" , hex(num1))"
      ],
      "metadata": {
        "colab": {
          "base_uri": "https://localhost:8080/"
        },
        "id": "pt3AKjiuZUXA",
        "outputId": "2ac89978-33b1-486b-df05-92fb7c3f55fa"
      },
      "execution_count": 12,
      "outputs": [
        {
          "output_type": "stream",
          "name": "stdout",
          "text": [
            "Enter a binary number that you want to convert in binary, hexa and octal number2\n",
            "Binary Number 0b10\n",
            "Octal Number 0o2\n",
            "HexaDecima Number 0x2\n"
          ]
        }
      ]
    },
    {
      "cell_type": "markdown",
      "source": [
        "Write a Python Program To Find ASCII value of a character?"
      ],
      "metadata": {
        "id": "jPhHYoFRZXpa"
      }
    },
    {
      "cell_type": "code",
      "source": [
        "val = input(\"enter the value that you want to ASCII value  \")\n",
        "\n",
        "print(\"Ascii value is \", ord(val))  #char(val)"
      ],
      "metadata": {
        "colab": {
          "base_uri": "https://localhost:8080/"
        },
        "id": "fpgvEAtEZXFa",
        "outputId": "0a389b10-16a7-4041-cf79-d5ecade12e16"
      },
      "execution_count": 19,
      "outputs": [
        {
          "output_type": "stream",
          "name": "stdout",
          "text": [
            "enter the value that you want to ASCII value  A\n",
            "Ascii value is  65\n"
          ]
        }
      ]
    },
    {
      "cell_type": "markdown",
      "source": [
        "Write a Python Program to Make a Simple Calculator with 4 basic mathematical operations?"
      ],
      "metadata": {
        "id": "GJhBPRlKZapX"
      }
    },
    {
      "cell_type": "code",
      "source": [
        "num1 = int(input(\"Enter the number 1 -  \"))\n",
        "num2 = int(input(\"Enter the number 2 -   \"))\n",
        "\n",
        "#Addition\n",
        "sum = num1 + num2\n",
        "print(sum)\n",
        "\n",
        "#Subtraction\n",
        "sub = num1 - num2\n",
        "print(sub)\n",
        "\n",
        "#Division\n",
        "div = num1 // num2  #num1/num2\n",
        "print(div)\n",
        "\n",
        "#Multiplication\n",
        "mul = num1 * num2\n",
        "print(mul)\n"
      ],
      "metadata": {
        "colab": {
          "base_uri": "https://localhost:8080/"
        },
        "id": "aaHfC_74ZbMg",
        "outputId": "e18ca27d-4973-42ce-d151-5b671b93bfac"
      },
      "execution_count": 2,
      "outputs": [
        {
          "output_type": "stream",
          "name": "stdout",
          "text": [
            "Enter the number 1 -  2\n",
            "Enter the number 2 -   3\n",
            "5\n",
            "-1\n",
            "0\n",
            "6\n"
          ]
        }
      ]
    }
  ]
}